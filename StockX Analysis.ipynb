{
 "cells": [
  {
   "cell_type": "markdown",
   "metadata": {},
   "source": [
    "# Off-White & Yeezy Sneaker Analysis by Stockx.com"
   ]
  },
  {
   "cell_type": "code",
   "execution_count": 19,
   "metadata": {},
   "outputs": [],
   "source": [
    "import pandas as pd\n",
    "import numpy as np\n",
    "import time\n",
    "\n",
    "# metrics \n",
    "from sklearn.model_selection import train_test_split \n",
    "from sklearn import metrics\n",
    "from sklearn.model_selection import cross_val_score, GridSearchCV\n",
    "\n",
    "# models\n",
    "from sklearn.linear_model import LinearRegression\n",
    "from sklearn.linear_model import Ridge\n",
    "from sklearn.linear_model import Lasso\n",
    "from sklearn.ensemble import RandomForestRegressor\n",
    "from sklearn.tree import DecisionTreeRegressor"
   ]
  },
  {
   "cell_type": "code",
   "execution_count": 20,
   "metadata": {},
   "outputs": [],
   "source": [
    "x = pd.read_csv('stockx.csv')"
   ]
  },
  {
   "cell_type": "code",
   "execution_count": 21,
   "metadata": {},
   "outputs": [],
   "source": [
    "# removing $ and , from the data and changing the data type to integers for calculations\n",
    "x['Sale Price'] = x['Sale Price'].str.replace('$', '')\n",
    "x['Sale Price'] = x['Sale Price'].str.replace(',', '')\n",
    "x['Sale Price'] = x['Sale Price'].astype('int64')\n",
    "# removing $ and , from the data and changing the data type to integers for calculations\n",
    "x['Retail Price'] = x['Retail Price'].str.replace('$', '')\n",
    "x['Retail Price'] = x['Retail Price'].str.replace(',', '')\n",
    "x['Retail Price'] = x['Retail Price'].astype('int64')\n",
    "# calculating the user's profit margin per item based on retail price as the acquisition cost \n",
    "x['Profit Margin'] = x['Sale Price'] - x['Retail Price']\n",
    "x['Profit Percent'] = round(( x['Profit Margin'] / x['Sale Price'] ) , 5)\n",
    "\n",
    "# handling datetime objects\n",
    "x['Order Date'] = pd.to_datetime(x['Order Date'], infer_datetime_format=True)\n",
    "x['Release Date'] = pd.to_datetime(x['Release Date'], infer_datetime_format=True)\n",
    "x['Date Difference'] = (x['Order Date'] - x['Release Date'])\n",
    "# converts the timedelta into just an integer\n",
    "x['Date Difference'] = x['Date Difference'].apply(lambda x: x.days)\n",
    "\n"
   ]
  },
  {
   "cell_type": "code",
   "execution_count": 22,
   "metadata": {},
   "outputs": [],
   "source": [
    "# creates a pivot table which is moved into excel for use in Tableau visualizations \n",
    "# contains aggregate functions for the sale price and profit percent columns\n",
    "average_sale = pd.pivot_table(x, values=['Sale Price', 'Profit Percent'], index=['Sneaker Name','Shoe Size'], aggfunc=[lambda x: len(x.unique()), 'mean', 'max', 'min', 'median']).reset_index()\n",
    "average_sale = average_sale.drop(('<lambda>', 'Profit Percent'), axis=1)\n",
    "# average_sale.to_excel('sneaker_size_labels.xlsx')"
   ]
  },
  {
   "cell_type": "code",
   "execution_count": 23,
   "metadata": {},
   "outputs": [],
   "source": [
    "# columns to keep as were numerical from original dataset\n",
    "# xc = x[['Sale Price', 'Retail Price', 'Date Difference']].copy()\n",
    "xc = x[['Sale Price', 'Retail Price', 'Date Difference']].copy()\n",
    "\n",
    "# these columns to become OneHotEncoded using pd.get_dummies()\n",
    "# y = x[['Brand','Sneaker Name', 'Shoe Size', 'Buyer Region']].copy()\n",
    "y = x[['Sneaker Name', 'Shoe Size']].copy()\n",
    "\n",
    "y['Shoe Size'] = y['Shoe Size'].astype('str')\n",
    "# creating numerical values out of categorical values - did not opt in for dropping the first column \n",
    "# g = pd.get_dummies(y, prefix=['Brand','Sneaker Name', 'Size','Region'])\n",
    "g = pd.get_dummies(y, prefix=['Sneaker Name', 'Size'])\n",
    "n = pd.concat([xc, g],axis=1)"
   ]
  },
  {
   "cell_type": "code",
   "execution_count": 24,
   "metadata": {},
   "outputs": [],
   "source": [
    "n_target = n['Sale Price']\n",
    "X = n.iloc[:,2:]"
   ]
  },
  {
   "cell_type": "code",
   "execution_count": 25,
   "metadata": {},
   "outputs": [],
   "source": [
    "\n",
    "score_dict = {}\n",
    "def score_me(mn, mc, pn):\n",
    "    \"\"\" \n",
    "    mn : the model name you want to have (ie. mn='Linear Regression')\n",
    "    mc : the variable name for the model (ie. mc=linear_regression)\n",
    "    pn : predictor variable name (ie. pn=y_pred)\n",
    "    \"\"\"\n",
    "    global model_name\n",
    "    model_name = {}\n",
    "    model_name['Train Score'] = mc.score(X_train, y_train)\n",
    "    model_name['Test Score'] = mc.score(X_test, y_test)\n",
    "    model_name['MAE'] = metrics.mean_absolute_error(y_test, pn)\n",
    "    model_name['MSE'] = metrics.mean_squared_error(y_test, pn)\n",
    "    model_name['RMSE'] = np.sqrt(metrics.mean_squared_error(y_test, pn))\n",
    "    score_dict[mn] = model_name \n",
    "    \n"
   ]
  },
  {
   "cell_type": "code",
   "execution_count": 26,
   "metadata": {},
   "outputs": [],
   "source": [
    "# Linear Regression to predict the Sales Price of Sneakers\n",
    "X_train, X_test, y_train, y_test = train_test_split(X, n_target, random_state=42, test_size=0.25)\n",
    "\n",
    "linear_start = time.time()\n",
    "linear_regressor = LinearRegression()\n",
    "linear_regressor.fit(X_train, y_train)\n",
    "y_pred = linear_regressor.predict(X_test)\n",
    "score_me(mn='Linear Regression', mc=linear_regressor, pn=y_pred)\n",
    "linear_end = time.time()\n",
    "linear_time = linear_end - linear_start\n",
    "model_name['Run Time(secs)'] = round(linear_time, 3)"
   ]
  },
  {
   "cell_type": "code",
   "execution_count": 27,
   "metadata": {},
   "outputs": [],
   "source": [
    "# Ridge Regression to predict the Sales Price of Sneakers\n",
    "ridge_start = time.time()\n",
    "ridgelin = Ridge(alpha=.0001).fit(X_train, y_train)\n",
    "ridge_pred = ridgelin.predict(X_test)\n",
    "score_me('Ridge Regression', ridgelin, ridge_pred)\n",
    "ridge_end = time.time()\n",
    "ridge_time = ridge_end - ridge_start\n",
    "model_name['Run Time(secs)'] = round(ridge_time, 3)"
   ]
  },
  {
   "cell_type": "code",
   "execution_count": null,
   "metadata": {},
   "outputs": [],
   "source": [
    "# Lasso Regression to predict the Sales Price of Sneakers\n",
    "lasso_start = time.time()\n",
    "lassolin = Lasso(alpha=.00001, max_iter=100000).fit(X_train, y_train)\n",
    "lasso_pred = lassolin.predict(X_test)\n",
    "score_me('Lasso Regression', lassolin, lasso_pred)\n",
    "lasso_end = time.time()\n",
    "lasso_time = lasso_end - lasso_start\n",
    "model_name['Run Time(secs)'] = round(lasso_time, 3)\n"
   ]
  },
  {
   "cell_type": "code",
   "execution_count": null,
   "metadata": {},
   "outputs": [],
   "source": [
    "# random forest regressor\n",
    "rf_start = time.time()\n",
    "rf = RandomForestRegressor(n_estimators = 50, random_state = 42)\n",
    "rf.fit(X_train, y_train)\n",
    "predictions = rf.predict(X_test)\n",
    "score_me('Random Forest Regression', rf, predictions)\n",
    "rf_end = time.time()\n",
    "rf_time = rf_end - rf_start\n",
    "model_name['Run Time(secs)'] = round(rf_time, 3)\n"
   ]
  },
  {
   "cell_type": "code",
   "execution_count": null,
   "metadata": {},
   "outputs": [],
   "source": [
    "#decision tree regressor\n",
    "dt_start = time.time()\n",
    "tree = DecisionTreeRegressor().fit(X_train, y_train)\n",
    "tree_predictor = tree.predict(X_test)\n",
    "score_me('Decision Tree Regression', tree, tree_predictor)\n",
    "dt_end = time.time()\n",
    "dt_time = dt_end - dt_start\n",
    "model_name['Run Time(secs)'] = round(dt_time, 3)\n"
   ]
  },
  {
   "cell_type": "code",
   "execution_count": null,
   "metadata": {},
   "outputs": [],
   "source": [
    "model_results = pd.DataFrame.from_dict(score_dict)"
   ]
  },
  {
   "cell_type": "code",
   "execution_count": null,
   "metadata": {},
   "outputs": [],
   "source": [
    "model_results"
   ]
  },
  {
   "cell_type": "code",
   "execution_count": null,
   "metadata": {},
   "outputs": [],
   "source": [
    "test_1 = n.iloc[:10, 2:]\n",
    "pd.Series(tree.predict(test_1))"
   ]
  },
  {
   "cell_type": "code",
   "execution_count": null,
   "metadata": {},
   "outputs": [],
   "source": [
    "n.iloc[:10, :1]"
   ]
  },
  {
   "cell_type": "code",
   "execution_count": null,
   "metadata": {},
   "outputs": [],
   "source": []
  }
 ],
 "metadata": {
  "kernelspec": {
   "display_name": "Python 3",
   "language": "python",
   "name": "python3"
  },
  "language_info": {
   "codemirror_mode": {
    "name": "ipython",
    "version": 3
   },
   "file_extension": ".py",
   "mimetype": "text/x-python",
   "name": "python",
   "nbconvert_exporter": "python",
   "pygments_lexer": "ipython3",
   "version": "3.7.6"
  }
 },
 "nbformat": 4,
 "nbformat_minor": 4
}
